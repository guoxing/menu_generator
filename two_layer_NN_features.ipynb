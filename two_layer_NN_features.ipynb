{
 "cells": [
  {
   "cell_type": "code",
   "execution_count": 1,
   "metadata": {
    "collapsed": false
   },
   "outputs": [],
   "source": [
    "import sys, os\n",
    "from numpy import *\n",
    "from matplotlib.pyplot import *\n",
    "%matplotlib inline\n",
    "matplotlib.rcParams['savefig.dpi'] = 100\n",
    "\n",
    "%load_ext autoreload\n",
    "%autoreload 2"
   ]
  },
  {
   "cell_type": "code",
   "execution_count": 2,
   "metadata": {
    "collapsed": true
   },
   "outputs": [],
   "source": [
    "import data_utils.utils as du\n",
    "import data_utils.ner as ner\n",
    "from nerwindow import full_report, eval_performance\n",
    "from nerwindow import WindowMLP"
   ]
  },
  {
   "cell_type": "code",
   "execution_count": 3,
   "metadata": {
    "collapsed": false
   },
   "outputs": [],
   "source": [
    "wv, word_to_num, num_to_word = ner.load_wv('data/vocab.txt',\n",
    "                                           'data/wvec.txt')\n",
    "\n",
    "tagnames = [\"O\", \"B\", \"I\", \"L\", \"U\"]\n",
    "num_to_tag = dict(enumerate(tagnames))\n",
    "tag_to_num = du.invert_dict(num_to_tag)"
   ]
  },
  {
   "cell_type": "code",
   "execution_count": 4,
   "metadata": {
    "collapsed": true
   },
   "outputs": [],
   "source": [
    "wsize = 5\n",
    "hidden_dim = 100\n",
    "reg = 0.001\n",
    "alpha = 0.01\n",
    "nepoch = 5\n",
    "k = 5 "
   ]
  },
  {
   "cell_type": "code",
   "execution_count": 9,
   "metadata": {
    "collapsed": false
   },
   "outputs": [],
   "source": [
    "pad = (wsize - 1)/2\n",
    "\n",
    "X_train, y_train, words_train = du.generateData('data/train_small', word_to_num, tag_to_num, wsize)\n",
    "X_dev, y_dev, words_dev = du.generateData('data/dev_small', word_to_num, tag_to_num, wsize)"
   ]
  },
  {
   "cell_type": "code",
   "execution_count": 10,
   "metadata": {
    "collapsed": false
   },
   "outputs": [
    {
     "name": "stdout",
     "output_type": "stream",
     "text": [
      "[[   1    1  201  534   28]\n",
      " [   1  201  534   28    5]\n",
      " [ 201  534   28    5  425]\n",
      " [ 534   28    5  425   42]\n",
      " [  28    5  425   42   10]\n",
      " [   5  425   42   10   86]\n",
      " [ 425   42   10   86  118]\n",
      " [  42   10   86  118 1412]\n",
      " [  10   86  118 1412   15]\n",
      " [  86  118 1412   15   20]]\n",
      "[['<s>' '<s>' 'Excellent' 'Chinese' 'food']\n",
      " ['<s>' 'Excellent' 'Chinese' 'food' ',']\n",
      " ['Excellent' 'Chinese' 'food' ',' 'although']\n",
      " ['Chinese' 'food' ',' 'although' 'there']\n",
      " ['food' ',' 'although' 'there' 'was']\n",
      " [',' 'although' 'there' 'was' 'too']\n",
      " ['although' 'there' 'was' 'too' 'much']\n",
      " ['there' 'was' 'too' 'much' 'broccoli']\n",
      " ['was' 'too' 'much' 'broccoli' 'in']\n",
      " ['too' 'much' 'broccoli' 'in' 'my']]\n"
     ]
    }
   ],
   "source": [
    "print X_train[:10]\n",
    "print words_train[:10]"
   ]
  },
  {
   "cell_type": "code",
   "execution_count": 7,
   "metadata": {
    "collapsed": true
   },
   "outputs": [],
   "source": [
    "def isCapital(x):\n",
    "    if len(x) > 0:\n",
    "        return x[0].isupper()\n",
    "    return false\n",
    "\n",
    "def capitalFeature(words):\n",
    "    fvec = array([isCapital(ww) for ww in words]).astype(int)\n",
    "    return fvec\n",
    "\n",
    "cap_train = capitalFeature(words_train)\n",
    "cap_dev = capitalFeature(words_dev)"
   ]
  },
  {
   "cell_type": "code",
   "execution_count": 8,
   "metadata": {
    "collapsed": false
   },
   "outputs": [
    {
     "name": "stdout",
     "output_type": "stream",
     "text": [
      "[1 1 0 0 0 0 0 0 0 0 0 0 0 0 0 0 0 0 0 1 0 0 0 0 0 1 0 1 0 0 0 0 0 0 0 0 0\n",
      " 0 0 0 0 0 0 1 0 1 0 0 0 0]\n"
     ]
    }
   ],
   "source": [
    "print cap_train[:50]"
   ]
  },
  {
   "cell_type": "code",
   "execution_count": null,
   "metadata": {
    "collapsed": true
   },
   "outputs": [],
   "source": [
    "from keras.models import Sequential\n",
    "from keras.utils import np_utils\n",
    "from keras.layers.core import Dense, Activation\n",
    "from keras.optimizers import SGD\n",
    "from keras.regularizers import l2\n",
    "\n",
    "Xt = wv[X_train]\n",
    "Xd = wv[X_dev]\n",
    "X_t = Xt.reshape(Xt.shape[0], Xt.shape[1]*Xt.shape[2])\n",
    "X_d = Xd.reshape(Xd.shape[0], Xd.shape[1]*Xd.shape[2])\n",
    "Y_t = np_utils.to_categorical(y_train, 5)\n",
    "Y_d = np_utils.to_categorical(y_dev, 5)\n",
    "print X_t.shape\n",
    "print Y_t.shape"
   ]
  }
 ],
 "metadata": {
  "kernelspec": {
   "display_name": "Python 2",
   "language": "python",
   "name": "python2"
  },
  "language_info": {
   "codemirror_mode": {
    "name": "ipython",
    "version": 2
   },
   "file_extension": ".py",
   "mimetype": "text/x-python",
   "name": "python",
   "nbconvert_exporter": "python",
   "pygments_lexer": "ipython2",
   "version": "2.7.5"
  }
 },
 "nbformat": 4,
 "nbformat_minor": 0
}
