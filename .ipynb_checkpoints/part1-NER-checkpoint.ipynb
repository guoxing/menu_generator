{
 "cells": [
  {
   "cell_type": "markdown",
   "metadata": {},
   "source": [
    "# CS 224D Assignment #2\n",
    "# Part [1]: Deep Networks: NER Window Model\n",
    "\n",
    "For this first part of the assignment, you'll build your first \"deep\" networks. On problem set 1, you computed the backpropagation gradient $\\frac{\\partial J}{\\partial w}$ for a two-layer network; in this problem set you'll implement a slightly more complex network to perform  named entity recognition (NER).\n",
    "\n",
    "Before beginning the programming section, you should complete parts (a) and (b) of the corresponding section of the handout."
   ]
  },
  {
   "cell_type": "code",
   "execution_count": 1,
   "metadata": {
    "collapsed": false
   },
   "outputs": [],
   "source": [
    "import sys, os\n",
    "from numpy import *\n",
    "from matplotlib.pyplot import *\n",
    "%matplotlib inline\n",
    "matplotlib.rcParams['savefig.dpi'] = 100\n",
    "\n",
    "%load_ext autoreload\n",
    "%autoreload 2"
   ]
  },
  {
   "cell_type": "markdown",
   "metadata": {},
   "source": [
    "## (c): Random Initialization Test\n",
    "Use the cell below to test your code."
   ]
  },
  {
   "cell_type": "code",
   "execution_count": 3,
   "metadata": {
    "collapsed": false
   },
   "outputs": [
    {
     "name": "stdout",
     "output_type": "stream",
     "text": [
      "[[ 0.46994114 -0.83008197  0.23148553  0.43094097 -0.00258593]\n",
      " [-0.47666619 -0.52297046  0.45125243 -0.57311684 -0.71301636]\n",
      " [ 0.32105262  0.78530031 -0.85918681  0.02111762  0.54147539]]\n"
     ]
    }
   ],
   "source": [
    "from misc import random_weight_matrix\n",
    "random.seed(10)\n",
    "print random_weight_matrix(3,5)"
   ]
  },
  {
   "cell_type": "markdown",
   "metadata": {},
   "source": [
    "## (d): Implementation\n",
    "\n",
    "We've provided starter code to load in the dataset and convert it to a list of \"windows\", consisting of indices into the matrix of word vectors. \n",
    "\n",
    "We pad each sentence with begin and end tokens `<s>` and `</s>`, which have their own word vector representations; additionally, we convert all words to lowercase, canonicalize digits (e.g. `1.12` becomes `DG.DGDG`), and replace unknown words with a special token `UUUNKKK`.\n",
    "\n",
    "You don't need to worry about the details of this, but you can inspect the `docs` variables or look at the raw data (in plaintext) in the `./data/` directory."
   ]
  },
  {
   "cell_type": "code",
   "execution_count": 4,
   "metadata": {
    "collapsed": false
   },
   "outputs": [],
   "source": [
    "import data_utils.utils as du\n",
    "import data_utils.ner as ner"
   ]
  },
  {
   "cell_type": "code",
   "execution_count": 5,
   "metadata": {
    "collapsed": false
   },
   "outputs": [],
   "source": [
    "# Load the starter word vectors\n",
    "wv, word_to_num, num_to_word = ner.load_wv('data/ner/vocab.txt',\n",
    "                                           'data/ner/wvec.txt')\n",
    "tagnames = [\"O\", \"FOOD\"]\n",
    "num_to_tag = dict(enumerate(tagnames))\n",
    "tag_to_num = du.invert_dict(num_to_tag)\n",
    "\n",
    "# Load the training set\n",
    "docs = du.load_dataset('data/ner/train')\n",
    "\n",
    "\n",
    "X_train, y_train = du.docs_to_windows(docs, word_to_num, tag_to_num)\n",
    "\n",
    "\n",
    "\n",
    "# # Load the dev set (for tuning hyperparameters)\n",
    "# docs = du.load_dataset('data/ner/dev')\n",
    "# X_dev, y_dev = du.docs_to_windows(docs, word_to_num, tag_to_num)\n",
    "\n",
    "# # Load the test set (dummy labels only)\n",
    "# docs = du.load_dataset('data/ner/test.masked')\n",
    "# X_test, y_test = du.docs_to_windows(docs, word_to_num, tag_to_num)"
   ]
  },
  {
   "cell_type": "markdown",
   "metadata": {},
   "source": [
    "To avoid re-inventing the wheel, we provide a base class that handles a lot of the drudgery of managing parameters and running gradient descent. It's based on the classifier API used by [`scikit-learn`](http://scikit-learn.org/stable/), so if you're familiar with that library it should be easy to use. \n",
    "\n",
    "We'll be using this class for the rest of this assignment, so it helps to get acquainted with a simple example that should be familiar from Assignment 1. To keep this notebook uncluttered, we've put the code in the `softmax_example.py`; take a look at it there, then run the cell below."
   ]
  },
  {
   "cell_type": "code",
   "execution_count": 6,
   "metadata": {
    "collapsed": false
   },
   "outputs": [
    {
     "name": "stderr",
     "output_type": "stream",
     "text": [
      "grad_check: dJ/db error norm = 3.565e-10 [ok]\n",
      "    b dims: [5] = 5 elem\n",
      "grad_check: dJ/dW error norm = 2.164e-11 [ok]\n",
      "    W dims: [5, 100] = 500 elem\n",
      "grad_check: dJ/dL[5] error norm = 2.646e-11 [ok]\n",
      "    L[5] dims: [10, 100] = 1000 elem\n"
     ]
    }
   ],
   "source": [
    "from softmax_example import SoftmaxRegression\n",
    "sr = SoftmaxRegression(wv=zeros((10,100)), dims=(100,5))\n",
    "\n",
    "##\n",
    "# Automatic gradient checker!\n",
    "# this checks anything you add to self.grads or self.sgrads\n",
    "# using the method of Assignment 1\n",
    "sr.grad_check(x=5, y=4)"
   ]
  },
  {
   "cell_type": "markdown",
   "metadata": {},
   "source": [
    "In order to implement a model, you need to subclass `NNBase`, then implement the following methods:\n",
    "\n",
    "- `__init__()` (initialize parameters and hyperparameters)\n",
    "- `_acc_grads()` (compute and accumulate gradients)\n",
    "- `compute_loss()` (compute loss for a training example)\n",
    "- `predict()`, `predict_proba()`, or other prediction method (for evaluation)\n",
    "\n",
    "`NNBase` provides you with a few others that will be helpful:\n",
    "\n",
    "- `grad_check()` (run a gradient check - calls `_acc_grads` and `compute_loss`)\n",
    "- `train_sgd()` (run SGD training; more on this later)\n",
    "\n",
    "Your task is to implement the window model in `nerwindow.py`; a scaffold has been provided for you with instructions on what to fill in.\n",
    "\n",
    "When ready, you can test below:"
   ]
  },
  {
   "cell_type": "code",
   "execution_count": 8,
   "metadata": {
    "collapsed": false
   },
   "outputs": [
    {
     "ename": "AttributeError",
     "evalue": "'PackedVector' object has no attribute 'L'",
     "output_type": "error",
     "traceback": [
      "\u001b[0;31m---------------------------------------------------------------------------\u001b[0m",
      "\u001b[0;31mAttributeError\u001b[0m                            Traceback (most recent call last)",
      "\u001b[0;32m<ipython-input-8-912f52099f5f>\u001b[0m in \u001b[0;36m<module>\u001b[0;34m()\u001b[0m\n\u001b[1;32m      2\u001b[0m clf = WindowMLP(wv, windowsize=3, dims=[None, 100, 5],\n\u001b[1;32m      3\u001b[0m                 reg=0.001, alpha=0.01)\n\u001b[0;32m----> 4\u001b[0;31m \u001b[0mclf\u001b[0m\u001b[0;34m.\u001b[0m\u001b[0mgrad_check\u001b[0m\u001b[0;34m(\u001b[0m\u001b[0mX_train\u001b[0m\u001b[0;34m[\u001b[0m\u001b[0;36m0\u001b[0m\u001b[0;34m]\u001b[0m\u001b[0;34m,\u001b[0m \u001b[0my_train\u001b[0m\u001b[0;34m[\u001b[0m\u001b[0;36m0\u001b[0m\u001b[0;34m]\u001b[0m\u001b[0;34m)\u001b[0m \u001b[0;31m# gradient check on single point\u001b[0m\u001b[0;34m\u001b[0m\u001b[0m\n\u001b[0m",
      "\u001b[0;32m/Users/tianxin/Documents/CS224D/assignment2/nn/base.pyc\u001b[0m in \u001b[0;36mgrad_check\u001b[0;34m(self, x, y, eps, tol, outfd, verbose, skiplist)\u001b[0m\n\u001b[1;32m    297\u001b[0m         \u001b[0;31m# Accumulate gradients in self.grads\u001b[0m\u001b[0;34m\u001b[0m\u001b[0;34m\u001b[0m\u001b[0m\n\u001b[1;32m    298\u001b[0m         \u001b[0mself\u001b[0m\u001b[0;34m.\u001b[0m\u001b[0m_reset_grad_acc\u001b[0m\u001b[0;34m(\u001b[0m\u001b[0;34m)\u001b[0m\u001b[0;34m\u001b[0m\u001b[0m\n\u001b[0;32m--> 299\u001b[0;31m         \u001b[0mself\u001b[0m\u001b[0;34m.\u001b[0m\u001b[0m_acc_grads\u001b[0m\u001b[0;34m(\u001b[0m\u001b[0mx\u001b[0m\u001b[0;34m,\u001b[0m \u001b[0my\u001b[0m\u001b[0;34m)\u001b[0m\u001b[0;34m\u001b[0m\u001b[0m\n\u001b[0m\u001b[1;32m    300\u001b[0m         \u001b[0mself\u001b[0m\u001b[0;34m.\u001b[0m\u001b[0msgrads\u001b[0m\u001b[0;34m.\u001b[0m\u001b[0mcoalesce\u001b[0m\u001b[0;34m(\u001b[0m\u001b[0;34m)\u001b[0m \u001b[0;31m# combine sparse updates\u001b[0m\u001b[0;34m\u001b[0m\u001b[0m\n\u001b[1;32m    301\u001b[0m \u001b[0;34m\u001b[0m\u001b[0m\n",
      "\u001b[0;32m/Users/tianxin/Documents/CS224D/assignment2/nerwindow.py\u001b[0m in \u001b[0;36m_acc_grads\u001b[0;34m(self, window, label)\u001b[0m\n\u001b[1;32m     88\u001b[0m         \u001b[0;31m##\u001b[0m\u001b[0;34m\u001b[0m\u001b[0;34m\u001b[0m\u001b[0m\n\u001b[1;32m     89\u001b[0m         \u001b[0;31m# Forward propagation\u001b[0m\u001b[0;34m\u001b[0m\u001b[0;34m\u001b[0m\u001b[0m\n\u001b[0;32m---> 90\u001b[0;31m         \u001b[0mx\u001b[0m \u001b[0;34m=\u001b[0m \u001b[0mself\u001b[0m\u001b[0;34m.\u001b[0m\u001b[0msparams\u001b[0m\u001b[0;34m.\u001b[0m\u001b[0mL\u001b[0m\u001b[0;34m[\u001b[0m\u001b[0mwindow\u001b[0m\u001b[0;34m]\u001b[0m\u001b[0;34m\u001b[0m\u001b[0m\n\u001b[0m\u001b[1;32m     91\u001b[0m         \u001b[0mx\u001b[0m \u001b[0;34m=\u001b[0m \u001b[0mreshape\u001b[0m\u001b[0;34m(\u001b[0m\u001b[0mx\u001b[0m\u001b[0;34m,\u001b[0m\u001b[0;34m(\u001b[0m\u001b[0;34m-\u001b[0m\u001b[0;36m1\u001b[0m\u001b[0;34m,\u001b[0m\u001b[0;34m)\u001b[0m\u001b[0;34m)\u001b[0m\u001b[0;34m\u001b[0m\u001b[0m\n\u001b[1;32m     92\u001b[0m \u001b[0;34m\u001b[0m\u001b[0m\n",
      "\u001b[0;31mAttributeError\u001b[0m: 'PackedVector' object has no attribute 'L'"
     ]
    }
   ],
   "source": [
    "from nerwindow import WindowMLP\n",
    "clf = WindowMLP(wv, windowsize=3, dims=[None, 100, 5],\n",
    "                reg=0.001, alpha=0.01)\n",
    "clf.grad_check(X_train[0], y_train[0]) # gradient check on single point"
   ]
  },
  {
   "cell_type": "markdown",
   "metadata": {},
   "source": [
    "Now we'll train your model on some data! You can implement your own SGD method, but we recommend that you just call `clf.train_sgd`. This takes the following arguments:\n",
    "\n",
    "- `X`, `y` : training data\n",
    "- `idxiter`: iterable (list or generator) that gives index (row of X) of training examples in the order they should be visited by SGD\n",
    "- `printevery`: int, prints progress after this many examples\n",
    "- `costevery`: int, computes mean loss after this many examples. This is a costly operation, so don't make this too frequent!\n",
    "\n",
    "The implementation we give you supports minibatch learning; if `idxiter` is a list-of-lists (or yields lists), then gradients will be computed for all indices in a minibatch before modifying the parameters (this is why we have you write `_acc_grad` instead of applying them directly!).\n",
    "\n",
    "Before training, you should generate a training schedule to pass as `idxiter`. If you know how to use Python generators, we recommend those; otherwise, just make a static list. Make the following in the cell below:\n",
    "\n",
    "- An \"epoch\" schedule that just iterates through the training set, in order, `nepoch` times.\n",
    "- A random schedule of `N` examples sampled with replacement from the training set.\n",
    "- A random schedule of `N/k` minibatches of size `k`, sampled with replacement from the training set."
   ]
  },
  {
   "cell_type": "code",
   "execution_count": null,
   "metadata": {
    "collapsed": false
   },
   "outputs": [],
   "source": [
    "nepoch = 5\n",
    "N = nepoch * len(y_train)\n",
    "k = 5 # minibatch size\n",
    "\n",
    "random.seed(10) # do not change this!\n",
    "#### YOUR CODE HERE ####\n",
    "l = len(y_train)\n",
    "# idxiter1 = [i for j in range(nepoch) for i in range(l)]\n",
    "# idxiter2 = [i for i in list(random.choice(range(l), N))]\n",
    "idxiter3 = [list(random.choice(l, k)) for i in xrange(N/k)]\n",
    "# idxiter0 = [list(random.choice(range(l), k)) for i in range(500)]\n",
    "\n",
    "clf = WindowMLP(wv, windowsize=3, dims=[None, 100, 5],\n",
    "                reg=0.001, alpha=0.01)\n",
    "\n",
    "clf.train_sgd(X_train, y_train,\n",
    "              idxiter3, \n",
    "              alphaiter=None,\n",
    "              printevery=10000, \n",
    "              costevery=10000,\n",
    "              devidx=None)\n",
    "\n",
    "#### END YOUR CODE ###"
   ]
  },
  {
   "cell_type": "markdown",
   "metadata": {},
   "source": [
    "Now call `train_sgd` to train on `X_train`, `y_train`. To verify that things work, train on 100,000 examples or so to start (with any of the above schedules). This shouldn't take more than a couple minutes, and you should get a mean cross-entropy loss around 0.4.\n",
    "\n",
    "Now, if this works well, it's time for production! You have three tasks here:\n",
    "\n",
    "1. Train a good model\n",
    "2. Plot a learning curve (cost vs. # of iterations)\n",
    "3. Use your best model to predict the test set\n",
    "\n",
    "You should train on the `train` data and evaluate performance on the `dev` set. The `test` data we provided has only dummy labels (everything is `O`); we'll compare your predictions to the true labels at grading time. \n",
    "\n",
    "Scroll down to section (f) for the evaluation code.\n",
    "\n",
    "We don't expect you to spend too much time doing an exhaustive search here; the default parameters should work well, although you can certainly do better. Try to achieve an F1 score of at least 76% on the dev set, as reported by `eval_performance`.\n",
    "\n",
    "Feel free to create new cells and write new code here, including new functions (helpers and otherwise) in `nerwindow.py`. When you have a good model, follow the instructions below to make predictions on the test set.\n",
    "\n",
    "A strong model may require 10-20 passes (or equivalent number of random samples) through the training set and could take 20 minutes or more to train - but it's also possible to be much, much faster!\n",
    "\n",
    "Things you may want to tune:\n",
    "- `alpha` (including using an \"annealing\" schedule to decrease the learning rate over time)\n",
    "- training schedule and minibatch size\n",
    "- regularization strength\n",
    "- hidden layer dimension\n",
    "- width of context window"
   ]
  },
  {
   "cell_type": "code",
   "execution_count": null,
   "metadata": {
    "collapsed": false,
    "scrolled": false
   },
   "outputs": [],
   "source": [
    "#### YOUR CODE HERE ####\n",
    "# Sandbox: build a good model by tuning hyperparameters\n",
    "nepoch = 20\n",
    "N = nepoch * len(y_train)\n",
    "k = 5 # minibatch size\n",
    "\n",
    "clf = WindowMLP(wv, windowsize=3, dims=[None, 100, 5],\n",
    "                reg=0.001, alpha=0.01)\n",
    "idxiter = [list(random.choice(l, k)) for i in xrange(N/k)]\n",
    "\n",
    "clf.train_sgd(X_train, y_train,\n",
    "              idxiter, \n",
    "              alphaiter=clf.annealiter(0.01),\n",
    "              printevery=10000, \n",
    "              costevery=10000,\n",
    "              devidx=None)\n",
    "\n",
    "y_pred = clf.predict(X_train)\n",
    "eval_performance(y_train, y_pred, tagnames)\n",
    "\n",
    "#### END YOUR CODE ####"
   ]
  },
  {
   "cell_type": "code",
   "execution_count": null,
   "metadata": {
    "collapsed": false,
    "scrolled": true
   },
   "outputs": [],
   "source": [
    "#### YOUR CODE HERE ####\n",
    "# final parameters\n",
    "# Sandbox: build a good model by tuning hyperparameters\n",
    "nepoch = 20\n",
    "N = nepoch * len(y_train)\n",
    "k = 5 # minibatch size\n",
    "\n",
    "clf = WindowMLP(wv, windowsize=3, dims=[None, 100, 5],\n",
    "                reg=0.001, alpha=0.02)\n",
    "idxiter = [list(random.choice(l, k)) for i in xrange(N/k)]\n",
    "\n",
    "cost_best = clf.train_sgd(X_train, y_train,\n",
    "              idxiter, \n",
    "              alphaiter=clf.annealiter(0.02),\n",
    "              printevery=10000, \n",
    "              costevery=8000,\n",
    "              devidx=None)\n",
    "\n",
    "#### END YOUR CODE ####"
   ]
  },
  {
   "cell_type": "code",
   "execution_count": null,
   "metadata": {
    "collapsed": false,
    "scrolled": true
   },
   "outputs": [],
   "source": [
    "#### YOUR CODE HERE ####\n",
    "# Sandbox: build a good model by tuning hyperparameters\n",
    "\n",
    "clf = WindowMLP(wv, windowsize=3, dims=[None, 150, 5],\n",
    "                reg=0.001, alpha=0.01)\n",
    "\n",
    "idxiter0 = [list(random.choice(l, k)) for i in xrange(10)]\n",
    "cost = clf.train_sgd(X_train, y_train,\n",
    "              idxiter0, \n",
    "              alphaiter=clf.annealiter(0.01),\n",
    "              printevery=10000, \n",
    "              costevery=10000,\n",
    "              devidx=None)\n",
    "\n",
    "#### END YOUR CODE ####"
   ]
  },
  {
   "cell_type": "code",
   "execution_count": null,
   "metadata": {
    "collapsed": false
   },
   "outputs": [],
   "source": [
    "# Plot - tuning alpha 0.01\n",
    "clf_alpha1 = WindowMLP(wv, windowsize=3, dims=[None, 150, 5],\n",
    "                reg=0.001, alpha=0.01)\n",
    "\n",
    "k = 5\n",
    "idxiter1 = [list(random.choice(l, k)) for i in range(10000)]\n",
    "cost_alpha1 = clf_alpha1.train_sgd(X_train, y_train,\n",
    "              idxiter1, \n",
    "              alphaiter=None,\n",
    "              printevery=10000, \n",
    "              costevery=200,\n",
    "              devidx=None)"
   ]
  },
  {
   "cell_type": "code",
   "execution_count": null,
   "metadata": {
    "collapsed": false
   },
   "outputs": [],
   "source": [
    "# Plot - tuning alpha 0.1\n",
    "clf_alpha2 = WindowMLP(wv, windowsize=3, dims=[None, 150, 5],\n",
    "                reg=0.001, alpha=0.1)\n",
    "\n",
    "k = 5\n",
    "idxiter2 = [list(random.choice(l, k)) for i in range(10000)]\n",
    "cost_alpha2 = clf_alpha2.train_sgd(X_train, y_train,\n",
    "              idxiter2, \n",
    "              alphaiter=None,\n",
    "              printevery=10000, \n",
    "              costevery=200,\n",
    "              devidx=None)"
   ]
  },
  {
   "cell_type": "markdown",
   "metadata": {},
   "source": [
    "## (e): Plot Learning Curves\n",
    "The `train_sgd` function returns a list of points `(counter, cost)` giving the mean loss after that number of SGD iterations.\n",
    "\n",
    "If the model is taking too long you can cut it off by going to *Kernel->Interrupt* in the IPython menu; `train_sgd` will return the training curve so-far, and you can restart without losing your training progress.\n",
    "\n",
    "Make two plots:\n",
    "\n",
    "- Learning curve using `reg = 0.001`, and comparing the effect of changing the learning rate: run with `alpha = 0.01` and `alpha = 0.1`. Use minibatches of size 5, and train for 10,000 minibatches with `costevery=200`. Be sure to scale up your counts (x-axis) to reflect the batch size. What happens if the model tries to learn too fast? Explain why this occurs, based on the relation of SGD to the true objective.\n",
    "\n",
    "- Learning curve for your best model (print the hyperparameters in the title), as trained using your best schedule. Set `costevery` so that you get at least 100 points to plot."
   ]
  },
  {
   "cell_type": "code",
   "execution_count": null,
   "metadata": {
    "collapsed": false,
    "scrolled": true
   },
   "outputs": [],
   "source": [
    "##\n",
    "# Plot your best learning curve here\n",
    "counts, costs = zip(*cost_best)\n",
    "figure(figsize=(6,4))\n",
    "plot(5*array(counts), costs, color='b', marker='o', linestyle='-')\n",
    "title(r\"Learning Curve ($\\alpha$=%g, $\\lambda$=%g)\" % (clf.alpha, clf.lreg))\n",
    "xlabel(\"SGD Iterations\"); ylabel(r\"Average $J(\\theta)$\"); \n",
    "ylim(ymin=0, ymax=max(1.1*max(costs),3*min(costs)));\n",
    "ylim(0,0.5)\n",
    "\n",
    "# Don't change this filename!\n",
    "savefig(\"ner.learningcurve.best.png\")"
   ]
  },
  {
   "cell_type": "code",
   "execution_count": null,
   "metadata": {
    "collapsed": false
   },
   "outputs": [],
   "source": [
    "##\n",
    "# Plot comparison of learning rates here\n",
    "# feel free to change the code below\n",
    "\n",
    "figure(figsize=(6,4))\n",
    "counts, costs = zip(*cost_alpha1)\n",
    "plot(5*array(counts), costs, color='b', marker='o', linestyle='-', label=r\"$\\alpha=0.01$\")\n",
    "counts, costs = zip(*cost_alpha2)\n",
    "plot(5*array(counts), costs, color='g', marker='o', linestyle='-', label=r\"$\\alpha=0.1$\")\n",
    "title(r\"Learning Curve ($\\lambda=0.01$, minibatch k=5)\")\n",
    "xlabel(\"SGD Iterations\"); ylabel(r\"Average $J(\\theta)$\"); \n",
    "ylim(ymin=0, ymax=max(1.1*max(costs),3*min(costs)));\n",
    "legend()\n",
    "\n",
    "# Don't change this filename\n",
    "savefig(\"ner.learningcurve.comparison.png\")"
   ]
  },
  {
   "cell_type": "markdown",
   "metadata": {},
   "source": [
    "## (f): Evaluating your model\n",
    "Evaluate the model on the dev set using your `predict` function, and compute performance metrics below!"
   ]
  },
  {
   "cell_type": "code",
   "execution_count": 1,
   "metadata": {
    "collapsed": false
   },
   "outputs": [
    {
     "ename": "NameError",
     "evalue": "name 'clf' is not defined",
     "output_type": "error",
     "traceback": [
      "\u001b[0;31m---------------------------------------------------------------------------\u001b[0m",
      "\u001b[0;31mNameError\u001b[0m                                 Traceback (most recent call last)",
      "\u001b[0;32m<ipython-input-1-035b8d46ce58>\u001b[0m in \u001b[0;36m<module>\u001b[0;34m()\u001b[0m\n\u001b[1;32m      1\u001b[0m \u001b[0;31m# Predict labels on the dev set\u001b[0m\u001b[0;34m\u001b[0m\u001b[0;34m\u001b[0m\u001b[0m\n\u001b[0;32m----> 2\u001b[0;31m \u001b[0myp\u001b[0m \u001b[0;34m=\u001b[0m \u001b[0mclf\u001b[0m\u001b[0;34m.\u001b[0m\u001b[0mpredict\u001b[0m\u001b[0;34m(\u001b[0m\u001b[0mX_dev\u001b[0m\u001b[0;34m)\u001b[0m\u001b[0;34m\u001b[0m\u001b[0m\n\u001b[0m\u001b[1;32m      3\u001b[0m \u001b[0;31m# Save predictions to a file, one per line\u001b[0m\u001b[0;34m\u001b[0m\u001b[0;34m\u001b[0m\u001b[0m\n\u001b[1;32m      4\u001b[0m \u001b[0mner\u001b[0m\u001b[0;34m.\u001b[0m\u001b[0msave_predictions\u001b[0m\u001b[0;34m(\u001b[0m\u001b[0myp\u001b[0m\u001b[0;34m,\u001b[0m \u001b[0;34m\"dev.predicted\"\u001b[0m\u001b[0;34m)\u001b[0m\u001b[0;34m\u001b[0m\u001b[0m\n\u001b[1;32m      5\u001b[0m \u001b[0;32mprint\u001b[0m \u001b[0myp\u001b[0m\u001b[0;34m\u001b[0m\u001b[0m\n",
      "\u001b[0;31mNameError\u001b[0m: name 'clf' is not defined"
     ]
    }
   ],
   "source": [
    "# Predict labels on the dev set\n",
    "yp = clf.predict(X_dev)\n",
    "# Save predictions to a file, one per line\n",
    "ner.save_predictions(yp, \"dev.predicted\")\n",
    "print yp"
   ]
  },
  {
   "cell_type": "code",
   "execution_count": 90,
   "metadata": {
    "collapsed": false,
    "scrolled": true
   },
   "outputs": [
    {
     "name": "stdout",
     "output_type": "stream",
     "text": [
      "             precision    recall  f1-score   support\n",
      "\n",
      "          O       0.96      0.99      0.98     42759\n",
      "        LOC       0.86      0.80      0.83      2094\n",
      "       MISC       0.84      0.65      0.73      1268\n",
      "        ORG       0.72      0.55      0.62      2092\n",
      "        PER       0.86      0.81      0.83      3149\n",
      "\n",
      "avg / total       0.94      0.94      0.94     51362\n",
      "\n",
      "=== Performance (omitting 'O' class) ===\n",
      "Mean precision:  82.36%\n",
      "Mean recall:     71.99%\n",
      "Mean F1:         76.65%\n"
     ]
    }
   ],
   "source": [
    "from nerwindow import full_report, eval_performance\n",
    "full_report(y_dev, yp, tagnames) # full report, helpful diagnostics\n",
    "eval_performance(y_dev, yp, tagnames) # performance: optimize this F1"
   ]
  },
  {
   "cell_type": "code",
   "execution_count": 91,
   "metadata": {
    "collapsed": false
   },
   "outputs": [],
   "source": [
    "# Save your predictions on the test set for us to evaluate\n",
    "# IMPORTANT: make sure X_test is exactly as loaded \n",
    "# from du.docs_to_windows, so that your predictions \n",
    "# line up with ours.\n",
    "yptest = clf.predict(X_test)\n",
    "ner.save_predictions(yptest, \"test.predicted\")"
   ]
  },
  {
   "cell_type": "markdown",
   "metadata": {},
   "source": [
    "## Part [1.1]: Probing neuron responses\n",
    "\n",
    "You might have seen some results from computer vision where the individual neurons learn to detect edges, shapes, or even [cat faces](http://googleblog.blogspot.com/2012/06/using-large-scale-brain-simulations-for.html). We're going to do the same for language.\n",
    "\n",
    "Recall that each \"neuron\" is essentially a logistic regression unit, with weights corresponding to rows of the corresponding matrix. So, if we have a hidden layer of dimension 100, then we can think of our matrix $W \\in \\mathbb{R}^{100 x 150}$ as representing 100 hidden neurons each with weights `W[i,:]` and bias `b1[i]`.\n",
    "\n",
    "### (a): Hidden Layer, Center Word\n",
    "For now, let's just look at the center word, and ignore the rest of the window. This corresponds to columns `W[:,50:100]`, although this could change if you altered the window size for your model. For each neuron, find the top 10 words that it responds to, as measured by the dot product between `W[i,50:100]` and `L[j]`. Use the provided code to print these words and their scores for 5 neurons of your choice. In your writeup, briefly describe what you notice here.\n",
    "\n",
    "The `num_to_word` dictionary, loaded earlier, may be helpful."
   ]
  },
  {
   "cell_type": "code",
   "execution_count": 124,
   "metadata": {
    "collapsed": false,
    "scrolled": false
   },
   "outputs": [
    {
     "name": "stdout",
     "output_type": "stream",
     "text": [
      "[ 1 32 26 49 22]\n",
      "Neuron 1\n",
      "[0]: (7.134) </s>\n",
      "[1]: (5.049) than\n",
      "[2]: (4.629) n't\n",
      "[3]: (4.503) until\n",
      "[4]: (4.405) there\n",
      "[5]: (4.285) [\n",
      "[6]: (4.221) if\n",
      "[7]: (4.163) per\n",
      "[8]: (4.150) what\n",
      "[9]: (4.123) whenever\n",
      "Neuron 32\n",
      "[0]: (6.082) referred\n",
      "[1]: (4.784) namely\n",
      "[2]: (4.775) despite\n",
      "[3]: (4.727) unfortunately\n",
      "[4]: (4.675) besides\n",
      "[5]: (4.463) thereby\n",
      "[6]: (4.329) although\n",
      "[7]: (4.313) portrayed\n",
      "[8]: (4.209) unlike\n",
      "[9]: (4.197) presumably\n",
      "Neuron 26\n",
      "[0]: (4.620) york\n",
      "[1]: (3.681) arts\n",
      "[2]: (3.676) pacific\n",
      "[3]: (3.578) gulf\n",
      "[4]: (3.578) national\n",
      "[5]: (3.554) atlantic\n",
      "[6]: (3.541) caribbean\n",
      "[7]: (3.522) michigan\n",
      "[8]: (3.513) mississippi\n",
      "[9]: (3.443) western\n",
      "Neuron 49\n",
      "[0]: (4.797) </s>\n",
      "[1]: (3.513) there\n",
      "[2]: (3.391) [\n",
      "[3]: (3.209) capacity\n",
      "[4]: (3.134) position\n",
      "[5]: (2.946) proposal\n",
      "[6]: (2.938) that\n",
      "[7]: (2.893) peak\n",
      "[8]: (2.887) at\n",
      "[9]: (2.843) system\n",
      "Neuron 22\n",
      "[0]: (3.079) insight\n",
      "[1]: (2.790) comments\n",
      "[2]: (2.725) talent\n",
      "[3]: (2.724) example\n",
      "[4]: (2.714) worse\n",
      "[5]: (2.688) permission\n",
      "[6]: (2.619) upset\n",
      "[7]: (2.582) abilities\n",
      "[8]: (2.546) vocals\n",
      "[9]: (2.537) concern\n"
     ]
    }
   ],
   "source": [
    "# Recommended function to print scores\n",
    "# scores = list of float\n",
    "# words = list of str\n",
    "def print_scores(scores, words):\n",
    "    for i in range(len(scores)):\n",
    "        print \"[%d]: (%.03f) %s\" % (i, scores[i], words[i])\n",
    "\n",
    "#### YOUR CODE HERE ####\n",
    "L = clf.sparams.L\n",
    "W = clf.params.W\n",
    "b1 = clf.params.b1\n",
    "scores = zeros((W.shape[0], L.shape[0]))\n",
    "topnum = 10\n",
    "topscores = zeros((W.shape[0], topnum))\n",
    "top_words = zeros((W.shape[0], topnum))\n",
    "\n",
    "\n",
    "for i in range(0, W.shape[0]):   \n",
    "    scores_i = W[i,50:100].dot(transpose(L))\n",
    "    topscores[i] = sort(scores_i)[::-1][:topnum]\n",
    "    top_words[i] = (scores_i.argsort()[::-1][:topnum])\n",
    "\n",
    "topwords = []\n",
    "for j in range(top_words.shape[0]):\n",
    "    twords = []\n",
    "    for i in top_words[j]:\n",
    "        twords.append(num_to_word[i])\n",
    "    topwords.append(twords)\n",
    "    \n",
    "# print scores\n",
    "print sum(topscores,axis=1).argsort()[::-1][:5]\n",
    "\n",
    "# neurons = [1,3,4,6,8] # change this to your chosen neurons\n",
    "neurons = [1,32,26,49,22]\n",
    "# for i in neurons:\n",
    "#     print \"Neuron %d\" % i\n",
    "#     twords = []\n",
    "#     for w in topwords[i]:\n",
    "#         twords.append(num_to_word[w])\n",
    "#     print_scores(topscores[i], twords)\n",
    "    \n",
    "for i in neurons:\n",
    "    print \"Neuron %d\" % i\n",
    "    print_scores(topscores[i], topwords[i])\n",
    "#### END YOUR CODE ####"
   ]
  },
  {
   "cell_type": "markdown",
   "metadata": {},
   "source": [
    "### (b): Model Output, Center Word\n",
    "Now, let's do the same for the output layer. Here we only have 5 neurons, one for each class. `O` isn't very interesting, but let's look at the other four.\n",
    "\n",
    "Here things get a little more complicated: since we take a softmax, we can't just look at the neurons separately. An input could cause several of these neurons to all have a strong response, so we really need to compute the softmax output and find the strongest inputs for each class.\n",
    "\n",
    "As before, let's consider only the center word (`W[:,50:100]`). For each class `ORG`, `PER`, `LOC`, and `MISC`, find the input words that give the highest probability $P(\\text{class}\\ |\\ \\text{word})$.\n",
    "\n",
    "You'll need to do the full feed-forward computation here - for efficiency, try to express this as a matrix operation on $L$. This is the same feed-forward computation as used to predict probabilities, just with $W$ replaced by `W[:,50:100]`.\n",
    "\n",
    "As with the hidden-layer neurons, print the top 10 words and their corresponding class probabilities for each class."
   ]
  },
  {
   "cell_type": "code",
   "execution_count": 117,
   "metadata": {
    "collapsed": true
   },
   "outputs": [],
   "source": [
    "def softmax(x):\n",
    "    \"\"\" Softmax function \"\"\"\n",
    "    ### YOUR CODE HERE\n",
    "    if x.ndim == 1:\n",
    "        e = exp(x - max(x))\n",
    "        return e / sum(e)\n",
    "    else:\n",
    "        e = exp(x - x.max(axis=1).reshape(-1,1))\n",
    "        row_sums = sum(e, axis=1).reshape(-1, 1)\n",
    "        return e / row_sums\n",
    "\n",
    "        ### END YOUR CODE"
   ]
  },
  {
   "cell_type": "code",
   "execution_count": 122,
   "metadata": {
    "collapsed": false
   },
   "outputs": [
    {
     "name": "stdout",
     "output_type": "stream",
     "text": [
      "Output neuron 1: LOC\n",
      "[0]: (0.972) headland\n",
      "[1]: (0.970) norway\n",
      "[2]: (0.970) egypt\n",
      "[3]: (0.969) italy\n",
      "[4]: (0.965) russia\n",
      "[5]: (0.961) canary\n",
      "[6]: (0.960) pakistan\n",
      "[7]: (0.956) malaysia\n",
      "[8]: (0.947) germany\n",
      "[9]: (0.946) barren\n",
      "\n",
      "Output neuron 2: MISC\n",
      "[0]: (0.996) italian\n",
      "[1]: (0.993) danish\n",
      "[2]: (0.985) turkish\n",
      "[3]: (0.985) brazilian\n",
      "[4]: (0.983) iranian\n",
      "[5]: (0.980) german\n",
      "[6]: (0.978) belgian\n",
      "[7]: (0.978) israeli\n",
      "[8]: (0.975) egyptian\n",
      "[9]: (0.967) dutch\n",
      "\n",
      "Output neuron 3: ORG\n",
      "[0]: (0.995) commons\n",
      "[1]: (0.991) psychiatry\n",
      "[2]: (0.986) libraries\n",
      "[3]: (0.984) grammar\n",
      "[4]: (0.982) inc\n",
      "[5]: (0.982) colleges\n",
      "[6]: (0.982) corp\n",
      "[7]: (0.982) combine\n",
      "[8]: (0.982) arts\n",
      "[9]: (0.981) computing\n",
      "\n",
      "Output neuron 4: PER\n",
      "[0]: (1.000) sarah\n",
      "[1]: (0.999) wept\n",
      "[2]: (0.999) jason\n",
      "[3]: (0.999) fittingly\n",
      "[4]: (0.999) rusty\n",
      "[5]: (0.999) johnny\n",
      "[6]: (0.999) adam\n",
      "[7]: (0.999) jr.\n",
      "[8]: (0.999) gazing\n",
      "[9]: (0.999) dejected\n",
      "\n"
     ]
    }
   ],
   "source": [
    "#### YOUR CODE HERE ####\n",
    "L = clf.sparams.L\n",
    "W = clf.params.W\n",
    "b1 = clf.params.b1\n",
    "U = clf.params.U\n",
    "b2 = clf.params.b2\n",
    "\n",
    "h = tanh(L.dot(transpose(W[:,50:100])) + b1)\n",
    "P = softmax(h.dot(transpose(U)) + b2)\n",
    "\n",
    "topnum = 10\n",
    "topscores = zeros((5,topnum))\n",
    "\n",
    "\n",
    "for i in range(0,5):\n",
    "    topscores[i] = sort(P[:,i])[::-1][:topnum]\n",
    "    topwords[i] = P[:,i].argsort()[::-1][:topnum]\n",
    "\n",
    "for i in range(1,5):\n",
    "    print \"Output neuron %d: %s\" % (i, num_to_tag[i])\n",
    "    twords = []\n",
    "    for w in topwords[i]:\n",
    "        twords.append(num_to_word[w])\n",
    "    print_scores(topscores[i], twords)\n",
    "    print \"\"\n",
    "\n",
    "#### END YOUR CODE ####"
   ]
  },
  {
   "cell_type": "markdown",
   "metadata": {},
   "source": [
    "### (c): Model Output, Preceding Word\n",
    "Now for one final task: let's look at the preceding word. Repeat the above analysis for the output layer, but use the first part of $W$, i.e. `W[:,:50]`.\n",
    "\n",
    "Describe what you see, and include these results in your writeup."
   ]
  },
  {
   "cell_type": "code",
   "execution_count": 123,
   "metadata": {
    "collapsed": false,
    "scrolled": false
   },
   "outputs": [
    {
     "name": "stdout",
     "output_type": "stream",
     "text": [
      "Output neuron 1: LOC\n",
      "[0]: (0.441) inhabited\n",
      "[1]: (0.379) southwest\n",
      "[2]: (0.369) located\n",
      "[3]: (0.333) near\n",
      "[4]: (0.300) situated\n",
      "[5]: (0.294) surrounded\n",
      "[6]: (0.262) native\n",
      "[7]: (0.260) governed\n",
      "[8]: (0.247) southeast\n",
      "[9]: (0.232) at\n",
      "\n",
      "Output neuron 2: MISC\n",
      "[0]: (0.386) </s>\n",
      "[1]: (0.347) grand\n",
      "[2]: (0.272) represent\n",
      "[3]: (0.253) habitat\n",
      "[4]: (0.232) super\n",
      "[5]: (0.228) exotic\n",
      "[6]: (0.225) see\n",
      "[7]: (0.220) desert\n",
      "[8]: (0.217) earth\n",
      "[9]: (0.216) ancient\n",
      "\n",
      "Output neuron 3: ORG\n",
      "[0]: (0.927) &\n",
      "[1]: (0.891) grove\n",
      "[2]: (0.873) venture\n",
      "[3]: (0.852) enterprise\n",
      "[4]: (0.849) pantheon\n",
      "[5]: (0.846) st\n",
      "[6]: (0.835) avenue\n",
      "[7]: (0.834) corporation\n",
      "[8]: (0.819) arts\n",
      "[9]: (0.814) circle\n",
      "\n",
      "Output neuron 4: PER\n",
      "[0]: (0.994) egotistical\n",
      "[1]: (0.992) earl\n",
      "[2]: (0.992) believing\n",
      "[3]: (0.992) aunt\n",
      "[4]: (0.991) ode\n",
      "[5]: (0.989) jr.\n",
      "[6]: (0.989) pat\n",
      "[7]: (0.989) mate\n",
      "[8]: (0.988) dejected\n",
      "[9]: (0.988) short-tempered\n",
      "\n"
     ]
    }
   ],
   "source": [
    "#### YOUR CODE HERE ####\n",
    "L = clf.sparams.L\n",
    "W = clf.params.W\n",
    "b1 = clf.params.b1\n",
    "U = clf.params.U\n",
    "b2 = clf.params.b2\n",
    "\n",
    "h = tanh(L.dot(transpose(W[:,:50])) + b1)\n",
    "P = softmax(h.dot(transpose(U)) + b2)\n",
    "\n",
    "topnum = 10\n",
    "topscores = zeros((5,topnum))\n",
    "\n",
    "for i in range(0,5):\n",
    "    topscores[i] = sort(P[:,i])[::-1][:topnum]\n",
    "    topwords[i] = P[:,i].argsort()[::-1][:topnum]\n",
    "\n",
    "for i in range(1,5):\n",
    "    print \"Output neuron %d: %s\" % (i, num_to_tag[i])\n",
    "    twords = []\n",
    "    for w in topwords[i]:\n",
    "        twords.append(num_to_word[w])\n",
    "    print_scores(topscores[i], twords)\n",
    "    print \"\"\n",
    "\n",
    "#### END YOUR CODE ####"
   ]
  },
  {
   "cell_type": "code",
   "execution_count": null,
   "metadata": {
    "collapsed": true
   },
   "outputs": [],
   "source": []
  }
 ],
 "metadata": {
  "kernelspec": {
   "display_name": "Python 2",
   "language": "python",
   "name": "python2"
  },
  "language_info": {
   "codemirror_mode": {
    "name": "ipython",
    "version": 2
   },
   "file_extension": ".py",
   "mimetype": "text/x-python",
   "name": "python",
   "nbconvert_exporter": "python",
   "pygments_lexer": "ipython2",
   "version": "2.7.5"
  }
 },
 "nbformat": 4,
 "nbformat_minor": 0
}
