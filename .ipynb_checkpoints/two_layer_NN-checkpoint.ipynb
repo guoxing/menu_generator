{
 "cells": [
  {
   "cell_type": "markdown",
   "metadata": {},
   "source": [
    "Get word vectors from Glove"
   ]
  },
  {
   "cell_type": "markdown",
   "metadata": {},
   "source": [
    "NN Model"
   ]
  },
  {
   "cell_type": "code",
   "execution_count": 33,
   "metadata": {
    "collapsed": false
   },
   "outputs": [
    {
     "name": "stdout",
     "output_type": "stream",
     "text": [
      "The autoreload extension is already loaded. To reload it, use:\n",
      "  %reload_ext autoreload\n"
     ]
    }
   ],
   "source": [
    "import sys, os\n",
    "from numpy import *\n",
    "from matplotlib.pyplot import *\n",
    "%matplotlib inline\n",
    "matplotlib.rcParams['savefig.dpi'] = 100\n",
    "\n",
    "%load_ext autoreload\n",
    "%autoreload 2"
   ]
  },
  {
   "cell_type": "code",
   "execution_count": 34,
   "metadata": {
    "collapsed": false
   },
   "outputs": [
    {
     "name": "stdout",
     "output_type": "stream",
     "text": [
      "[[ 0.46994114 -0.83008197  0.23148553  0.43094097 -0.00258593]\n",
      " [-0.47666619 -0.52297046  0.45125243 -0.57311684 -0.71301636]\n",
      " [ 0.32105262  0.78530031 -0.85918681  0.02111762  0.54147539]]\n"
     ]
    }
   ],
   "source": [
    "from misc import random_weight_matrix\n",
    "random.seed(10)\n",
    "print random_weight_matrix(3,5)"
   ]
  },
  {
   "cell_type": "code",
   "execution_count": 35,
   "metadata": {
    "collapsed": true
   },
   "outputs": [],
   "source": [
    "import data_utils.utils as du\n",
    "import data_utils.ner as ner\n",
    "from nerwindow import full_report, eval_performance"
   ]
  },
  {
   "cell_type": "code",
   "execution_count": 36,
   "metadata": {
    "collapsed": true
   },
   "outputs": [],
   "source": [
    "wv, word_to_num, num_to_word = ner.load_wv('data/vocab.txt',\n",
    "                                           'data/wvec.txt')\n",
    "\n",
    "tagnames = [\"O\", \"B\", \"I\", \"L\", \"U\"]\n",
    "num_to_tag = dict(enumerate(tagnames))\n",
    "tag_to_num = du.invert_dict(num_to_tag)"
   ]
  },
  {
   "cell_type": "markdown",
   "metadata": {},
   "source": [
    "Tune parameters here"
   ]
  },
  {
   "cell_type": "code",
   "execution_count": null,
   "metadata": {
    "collapsed": true
   },
   "outputs": [],
   "source": [
    "wsize = 5\n",
    "hidden_dim = 100\n",
    "reg = 0.001\n",
    "alpha = 0.01\n",
    "nepoch = 5\n",
    "k = 5  "
   ]
  },
  {
   "cell_type": "code",
   "execution_count": 22,
   "metadata": {
    "collapsed": false
   },
   "outputs": [],
   "source": [
    "pad = (wsize - 1)/2\n",
    "\n",
    "X_train, y_train, words_train = du.generateData('data/train_s', word_to_num, tag_to_num, wsize)\n",
    "X_dev, y_dev, words_dev = du.generateData('data/dev_s', word_to_num, tag_to_num, wsize)\n"
   ]
  },
  {
   "cell_type": "code",
   "execution_count": 27,
   "metadata": {
    "collapsed": false
   },
   "outputs": [],
   "source": [
    "N = nepoch * len(y_train)\n",
    "\n",
    "random.seed(10) \n",
    "\n",
    "l = len(y_train)\n",
    "\n",
    "# idxiter1 = [i for j in range(nepoch) for i in range(l)]\n",
    "# idxiter2 = [i for i in list(random.choice(range(l), N))]\n",
    "idxiter3 = [list(random.choice(l, k)) for i in xrange(N/k)]\n",
    "# idxiter0 = [list(random.choice(range(l), k)) for i in range(500)]\n",
    "\n",
    "clf = WindowMLP(wv, windowsize=wsize, dims=[None, hidden_dim, 5],\n",
    "                reg, alpha)"
   ]
  },
  {
   "cell_type": "code",
   "execution_count": 28,
   "metadata": {
    "collapsed": false
   },
   "outputs": [
    {
     "name": "stdout",
     "output_type": "stream",
     "text": [
      "Begin SGD...\n",
      "  Seen 0 in 0.00 s\n",
      "  [0]: mean loss 2.23559\n",
      "  Seen 10000 in 15.86 s\n",
      "  [10000]: mean loss 0.315627\n",
      "  Seen 20000 in 31.61 s\n",
      "  [20000]: mean loss 0.29119\n",
      "  Seen 30000 in 47.34 s\n",
      "  [30000]: mean loss 0.261716\n",
      "  Seen 40000 in 63.05 s\n",
      "  [40000]: mean loss 0.260442\n",
      "  Seen 50000 in 79.08 s\n",
      "  [50000]: mean loss 0.251016\n",
      "  Seen 60000 in 95.70 s\n",
      "  [60000]: mean loss 0.2375\n",
      "  Seen 70000 in 111.49 s\n",
      "  [70000]: mean loss 0.246755\n",
      "  Seen 80000 in 127.38 s\n",
      "  [80000]: mean loss 0.229106\n",
      "  Seen 90000 in 145.16 s\n",
      "  [90000]: mean loss 0.234404\n",
      "  Seen 100000 in 161.71 s\n",
      "  [100000]: mean loss 0.227156\n",
      "  Seen 110000 in 179.66 s\n",
      "  [110000]: mean loss 0.227985\n",
      "  Seen 120000 in 196.56 s\n",
      "  [120000]: mean loss 0.22334\n",
      "  Seen 130000 in 213.32 s\n",
      "  [130000]: mean loss 0.220861\n",
      "  Seen 140000 in 229.59 s\n",
      "  [140000]: mean loss 0.220225\n",
      "  Seen 150000 in 246.27 s\n",
      "  [150000]: mean loss 0.235033\n",
      "  Seen 160000 in 262.69 s\n",
      "  [160000]: mean loss 0.214119\n",
      "  Seen 170000 in 279.50 s\n",
      "  [170000]: mean loss 0.213583\n",
      "  Seen 180000 in 295.48 s\n",
      "  [180000]: mean loss 0.222938\n",
      "  Seen 190000 in 311.72 s\n",
      "  [190000]: mean loss 0.217345\n",
      "  Seen 200000 in 327.94 s\n",
      "  [200000]: mean loss 0.214779\n",
      "  Seen 210000 in 345.20 s\n",
      "  [210000]: mean loss 0.209232\n",
      "  Seen 220000 in 361.79 s\n",
      "  [220000]: mean loss 0.208413\n",
      "  Seen 230000 in 378.54 s\n",
      "  [230000]: mean loss 0.208821\n",
      "  Seen 240000 in 394.58 s\n",
      "  [240000]: mean loss 0.206907\n",
      "  Seen 250000 in 411.29 s\n",
      "  [250000]: mean loss 0.213881\n",
      "  Seen 260000 in 427.07 s\n",
      "  [260000]: mean loss 0.205242\n",
      "  Seen 270000 in 442.87 s\n",
      "  [270000]: mean loss 0.211237\n",
      "  Seen 280000 in 458.59 s\n",
      "  [280000]: mean loss 0.205121\n",
      "  Seen 290000 in 474.33 s\n",
      "  [290000]: mean loss 0.199031\n",
      "  Seen 300000 in 490.27 s\n",
      "  [300000]: mean loss 0.204827\n",
      "  Seen 310000 in 506.31 s\n",
      "  [310000]: mean loss 0.198787\n",
      "  Seen 320000 in 522.03 s\n",
      "  [320000]: mean loss 0.20667\n",
      "  Seen 330000 in 537.69 s\n",
      "  [330000]: mean loss 0.202748\n",
      "  Seen 340000 in 553.39 s\n",
      "  [340000]: mean loss 0.199923\n",
      "  Seen 350000 in 569.02 s\n",
      "  [350000]: mean loss 0.200406\n",
      "  Seen 360000 in 584.73 s\n",
      "  [360000]: mean loss 0.197674\n",
      "  Seen 370000 in 600.62 s\n",
      "  [370000]: mean loss 0.195518\n",
      "  Seen 380000 in 616.67 s\n",
      "  [380000]: mean loss 0.196429\n",
      "  [381326]: mean loss 0.198978\n",
      "SGD complete: 381326 examples in 624.35 seconds.\n"
     ]
    },
    {
     "data": {
      "text/plain": [
       "[(0, 2.2355858259416581),\n",
       " (10000, 0.31562675642172477),\n",
       " (20000, 0.29118957182720612),\n",
       " (30000, 0.26171618797235174),\n",
       " (40000, 0.26044189159219466),\n",
       " (50000, 0.25101646337226385),\n",
       " (60000, 0.23750043608954671),\n",
       " (70000, 0.24675456577054525),\n",
       " (80000, 0.22910624254115827),\n",
       " (90000, 0.23440387195950385),\n",
       " (100000, 0.22715607388146405),\n",
       " (110000, 0.22798515306712192),\n",
       " (120000, 0.22334000125889816),\n",
       " (130000, 0.22086070777088818),\n",
       " (140000, 0.22022517785636384),\n",
       " (150000, 0.23503262467207517),\n",
       " (160000, 0.21411880413953371),\n",
       " (170000, 0.2135825688964279),\n",
       " (180000, 0.22293771051035649),\n",
       " (190000, 0.21734509366005594),\n",
       " (200000, 0.21477930346650229),\n",
       " (210000, 0.20923206679778433),\n",
       " (220000, 0.20841269453352959),\n",
       " (230000, 0.20882129661530741),\n",
       " (240000, 0.2069065082472043),\n",
       " (250000, 0.21388085420120151),\n",
       " (260000, 0.20524227688371172),\n",
       " (270000, 0.21123676494223589),\n",
       " (280000, 0.20512063590077434),\n",
       " (290000, 0.19903076351231522),\n",
       " (300000, 0.2048270238899649),\n",
       " (310000, 0.1987865276697709),\n",
       " (320000, 0.20667024753154864),\n",
       " (330000, 0.20274812751447663),\n",
       " (340000, 0.19992307713714585),\n",
       " (350000, 0.2004060023014374),\n",
       " (360000, 0.19767426713186104),\n",
       " (370000, 0.19551806136788791),\n",
       " (380000, 0.19642891049640843),\n",
       " (381326, 0.19897824149501347)]"
      ]
     },
     "execution_count": 28,
     "metadata": {},
     "output_type": "execute_result"
    }
   ],
   "source": [
    "clf.train_sgd(X_train, y_train,\n",
    "              idxiter3, \n",
    "              alphaiter=None,\n",
    "              printevery=10000, \n",
    "              costevery=10000,\n",
    "              devidx=None)"
   ]
  },
  {
   "cell_type": "code",
   "execution_count": 29,
   "metadata": {
    "collapsed": false
   },
   "outputs": [
    {
     "name": "stdout",
     "output_type": "stream",
     "text": [
      "=== Performance (omitting 'O' class) ===\n",
      "Mean precision:  66.41%\n",
      "Mean recall:     58.99%\n",
      "Mean F1:         62.29%\n"
     ]
    }
   ],
   "source": [
    "\n",
    "y_pred = clf.predict(X_train)\n",
    "eval_performance(y_train, y_pred, tagnames)"
   ]
  },
  {
   "cell_type": "code",
   "execution_count": 30,
   "metadata": {
    "collapsed": false
   },
   "outputs": [],
   "source": [
    "# Predict labels on the dev set\n",
    "yp = clf.predict(X_dev)\n",
    "# Save predictions to a file, one per line\n",
    "ner.save_predictions(yp, \"dev.predicted\")"
   ]
  },
  {
   "cell_type": "code",
   "execution_count": 31,
   "metadata": {
    "collapsed": false
   },
   "outputs": [
    {
     "name": "stdout",
     "output_type": "stream",
     "text": [
      "[0 0 0 ..., 0 0 0]\n",
      "[0 0 0 ..., 0 4 0]\n"
     ]
    }
   ],
   "source": [
    "print y_dev\n",
    "print yp"
   ]
  },
  {
   "cell_type": "code",
   "execution_count": 32,
   "metadata": {
    "collapsed": false
   },
   "outputs": [
    {
     "name": "stdout",
     "output_type": "stream",
     "text": [
      "             precision    recall  f1-score   support\n",
      "\n",
      "          O       0.94      0.97      0.95     85562\n",
      "          B       0.51      0.48      0.50      3018\n",
      "          I       0.41      0.30      0.35       896\n",
      "          L       0.54      0.36      0.43      3018\n",
      "          U       0.52      0.38      0.44      2841\n",
      "\n",
      "avg / total       0.90      0.91      0.90     95335\n",
      "\n",
      "=== Performance (omitting 'O' class) ===\n",
      "Mean precision:  51.49%\n",
      "Mean recall:     39.93%\n",
      "Mean F1:         44.74%\n"
     ]
    }
   ],
   "source": [
    "from nerwindow import full_report, eval_performance\n",
    "full_report(y_dev, yp, tagnames) # full report, helpful diagnostics\n",
    "eval_performance(y_dev, yp, tagnames) # performance: optimize this F1"
   ]
  },
  {
   "cell_type": "code",
   "execution_count": null,
   "metadata": {
    "collapsed": true
   },
   "outputs": [],
   "source": []
  }
 ],
 "metadata": {
  "kernelspec": {
   "display_name": "Python 2",
   "language": "python",
   "name": "python2"
  },
  "language_info": {
   "codemirror_mode": {
    "name": "ipython",
    "version": 2
   },
   "file_extension": ".py",
   "mimetype": "text/x-python",
   "name": "python",
   "nbconvert_exporter": "python",
   "pygments_lexer": "ipython2",
   "version": "2.7.5"
  }
 },
 "nbformat": 4,
 "nbformat_minor": 0
}
